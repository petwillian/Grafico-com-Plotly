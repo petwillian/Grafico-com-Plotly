{
  "nbformat": 4,
  "nbformat_minor": 0,
  "metadata": {
    "colab": {
      "provenance": []
    },
    "kernelspec": {
      "name": "python3",
      "display_name": "Python 3"
    },
    "language_info": {
      "name": "python"
    }
  },
  "cells": [
    {
      "cell_type": "markdown",
      "source": [
        "Pip install"
      ],
      "metadata": {
        "id": "maU1Q5LDO_hK"
      }
    },
    {
      "cell_type": "code",
      "execution_count": null,
      "metadata": {
        "id": "AwGJYm_sOz2V"
      },
      "outputs": [],
      "source": [
        "!pip install --upgrade pip setuptools wheel"
      ]
    },
    {
      "cell_type": "code",
      "source": [
        "!pip install plotly --prefer-binary"
      ],
      "metadata": {
        "id": "J8bULwT9QtnP"
      },
      "execution_count": null,
      "outputs": []
    },
    {
      "cell_type": "code",
      "source": [
        "!pip install kaleido --prefer-binary"
      ],
      "metadata": {
        "id": "772toqhJ3jQ8"
      },
      "execution_count": null,
      "outputs": []
    },
    {
      "cell_type": "code",
      "source": [
        "!pip freeze > requirements.txt"
      ],
      "metadata": {
        "id": "bC1QZGdcQqWK"
      },
      "execution_count": 3,
      "outputs": []
    },
    {
      "cell_type": "markdown",
      "source": [
        "Gráfico de Linha com Plotly"
      ],
      "metadata": {
        "id": "aWkwSOtTO_c0"
      }
    },
    {
      "cell_type": "code",
      "source": [
        "import plotly.express as px\n",
        "import pandas as pd\n",
        "\n",
        "indices = [1, 2, 3, 4]\n",
        "amostras = [[1, 4, 2, 3], [2, 8, 4, 6], [4, 16, 8, 12]]\n",
        "\n",
        "fig = px.line(x=indices, y=amostras, title='Titulo do Gráfico',\n",
        "              labels=dict(value='Label Y', x='Label X', variable='Amostras')\n",
        "             )\n",
        "fig.data[0].name = 'Amostra A'\n",
        "fig.data[1].name = 'Amostra B'\n",
        "fig.data[2].name = 'Amostra C'\n",
        "\n",
        "#fig.update_layout(showlegend=False) # tira a lengenda ao lado do gráfico\n",
        "\n",
        "\n",
        "fig.show()\n"
      ],
      "metadata": {
        "id": "Gqgq_mLeQ4vC"
      },
      "execution_count": null,
      "outputs": []
    },
    {
      "cell_type": "markdown",
      "source": [
        "Gráfico de Barra com Plotly"
      ],
      "metadata": {
        "id": "8Y1WT4nrO_ZO"
      }
    },
    {
      "cell_type": "code",
      "source": [
        "import plotly.express as px\n",
        "\n",
        "frutas = ['Laranja', 'Melancia', 'Manga', 'Jaca']\n",
        "quantidades = [60, 100, 85, 30]\n",
        "\n",
        "fig = px.bar(x=frutas, y=quantidades, title='Titulo do Gráfico', color=frutas,\n",
        "             labels=dict(y='Label Y', x='Label X', color='Frutas'))\n",
        "\n",
        "fig.show()"
      ],
      "metadata": {
        "id": "5kUbWbThO-uQ"
      },
      "execution_count": null,
      "outputs": []
    },
    {
      "cell_type": "markdown",
      "source": [],
      "metadata": {
        "id": "y7MpBhXZO_T5"
      }
    },
    {
      "cell_type": "code",
      "source": [
        "import plotly.express as px\n",
        "import numpy as np\n",
        "\n",
        "pesquisa = np.random.normal(170, 10, 250)\n",
        "\n",
        "fig = px.histogram(pesquisa, nbins=8, title='Titulo do Gráfico')\n",
        "\n",
        "fig.update_layout(showlegend=False) # tira a lengenda ao lado do gráfico\n",
        "\n",
        "fig.update_xaxes(title='Label X')\n",
        "fig.update_yaxes(title='Label Y')\n",
        "\n",
        "fig.update_traces(marker_line_width=0.5, marker_line_color='#ffffff')\n",
        "\n",
        "fig.show()"
      ],
      "metadata": {
        "id": "3rON7YJqO-pN"
      },
      "execution_count": null,
      "outputs": []
    },
    {
      "cell_type": "markdown",
      "source": [
        "Gráfico de Pizza com Plotly"
      ],
      "metadata": {
        "id": "JSS-s8KMrrOP"
      }
    },
    {
      "cell_type": "code",
      "source": [
        "import plotly.express as px\n",
        "import pandas as pd\n",
        "\n",
        "dados = {'frutas': ['Laranja', 'Melancia', 'Manga', 'Jaca'],\n",
        "         'porcentagem': [15, 30, 45, 10]\n",
        "        }\n",
        "df = pd.DataFrame(data=dados)\n",
        "\n",
        "fig = px.pie(df, values='porcentagem', names='frutas')\n",
        "\n",
        "#fig.update_layout(showlegend=False) # tira a lengenda ao lado do gráfico\n",
        "\n",
        "fig.update_traces(textinfo='percent+label')\n",
        "\n",
        "fig.update_layout(hovermode=False)# passa o mause encima a apresenta a porcentagem\n",
        "\n",
        "fig.show()"
      ],
      "metadata": {
        "id": "mM4k_AedO-lS"
      },
      "execution_count": null,
      "outputs": []
    },
    {
      "cell_type": "code",
      "source": [
        "df"
      ],
      "metadata": {
        "id": "KUM75OuvO-a1"
      },
      "execution_count": null,
      "outputs": []
    },
    {
      "cell_type": "markdown",
      "source": [
        "Salvando a imagem do gráfico com Plotly"
      ],
      "metadata": {
        "id": "wHk5p0q4uPYE"
      }
    },
    {
      "cell_type": "code",
      "source": [
        "import plotly.express as px\n",
        "import pandas as pd\n",
        "import plotly.io as io\n",
        "\n",
        "dados = {'frutas': ['Laranja', 'Melancia', 'Manga', 'Jaca'],\n",
        "         'porcentagem': [15, 30, 45, 10]\n",
        "        }\n",
        "df = pd.DataFrame(data=dados)\n",
        "\n",
        "fig = px.pie(df, values='porcentagem', names='frutas')\n",
        "\n",
        "#fig.update_layout(showlegend=False) # tira a lengenda ao lado do gráfico\n",
        "\n",
        "fig.update_traces(textinfo='percent+label')\n",
        "\n",
        "fig.update_layout(hovermode=False)# passa o mause encima a apresenta a porcentagem\n",
        "\n",
        "#fig.show()\n",
        "\n",
        "io.write_image(fig , 'grafico.png' )\n",
        "\n",
        "#io.write_json()\n",
        "#io.write_html()"
      ],
      "metadata": {
        "id": "ESe_F4E2uRDq"
      },
      "execution_count": 12,
      "outputs": []
    }
  ]
}